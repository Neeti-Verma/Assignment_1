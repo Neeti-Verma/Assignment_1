{
  "nbformat": 4,
  "nbformat_minor": 0,
  "metadata": {
    "colab": {
      "provenance": [],
      "toc_visible": true
    },
    "kernelspec": {
      "name": "python3",
      "display_name": "Python 3"
    },
    "language_info": {
      "name": "python"
    }
  },
  "cells": [
    {
      "cell_type": "code",
      "source": [
        "class Car:\n",
        "  prize = 67387\n",
        "  def accelerate(self,prize):\n",
        "    print(\"Car is accelerating\")\n",
        "  def Break(self):\n",
        "    print(\"Car is breaking\")"
      ],
      "metadata": {
        "id": "ZmFJYEdozA_y"
      },
      "execution_count": 22,
      "outputs": []
    },
    {
      "cell_type": "code",
      "source": [
        "obj1= Car()\n",
        "obj1.accelerate(1000)"
      ],
      "metadata": {
        "colab": {
          "base_uri": "https://localhost:8080/"
        },
        "id": "8l-Is0Niz53A",
        "outputId": "c09be197-db82-41d1-9d8a-64252993a5a2"
      },
      "execution_count": 23,
      "outputs": [
        {
          "output_type": "stream",
          "name": "stdout",
          "text": [
            "Car is accelerating\n"
          ]
        }
      ]
    },
    {
      "cell_type": "code",
      "source": [
        "obj1.prize"
      ],
      "metadata": {
        "colab": {
          "base_uri": "https://localhost:8080/"
        },
        "id": "SHSB6pGc1OTC",
        "outputId": "f798e4e6-ea0d-4a81-fd71-baa6caa24cf9"
      },
      "execution_count": 24,
      "outputs": [
        {
          "output_type": "execute_result",
          "data": {
            "text/plain": [
              "67387"
            ]
          },
          "metadata": {},
          "execution_count": 24
        }
      ]
    },
    {
      "cell_type": "code",
      "source": [
        "class ListOp:\n",
        "  lis=[0,1,2,3,4,5,6,7,8,9]\n",
        "  def extract_even(self,lis):\n",
        "    even_lis=[]\n",
        "    for i in lis:\n",
        "      if i %2==0:\n",
        "        even_lis.append(i)\n",
        "    return even_lis\n",
        "  def extract_odd(self,lis):\n",
        "    odd_lis=[]\n",
        "    for i in lis:\n",
        "      if i %2==0:\n",
        "        odd_lis.append(i)\n",
        "    return odd_lis\n",
        ""
      ],
      "metadata": {
        "id": "fiPGaaSU1Yeq"
      },
      "execution_count": 28,
      "outputs": []
    },
    {
      "cell_type": "code",
      "source": [
        "class ListOp:\n",
        "  def __init__(self,lis):\n",
        "    self.lis=lis\n",
        "  def extract_even(self):\n",
        "    lis=self.lis\n",
        "    even_lis=[]\n",
        "    for i in lis:\n",
        "      if i %2==0:\n",
        "        even_lis.append(i)\n",
        "    return even_lis\n",
        "  def extract_odd(self):\n",
        "    lis=self.lis\n",
        "    odd_lis=[]\n",
        "    for i in lis:\n",
        "      if i %2!=0:\n",
        "        odd_lis.append(i)\n",
        "    return odd_lis"
      ],
      "metadata": {
        "id": "Jyho_zbN3cZN"
      },
      "execution_count": 54,
      "outputs": []
    },
    {
      "cell_type": "code",
      "source": [
        "obj3=ListOp([2,3,5,78,9,1])\n",
        "\n",
        "odd_numbers = obj3.extract_odd()  # No need to pass an argument\n",
        "print(odd_numbers)  # Output: [1, 3, 5, 7, 5]"
      ],
      "metadata": {
        "colab": {
          "base_uri": "https://localhost:8080/"
        },
        "id": "xCwyOHV64HIb",
        "outputId": "d7b4e06f-b443-439d-e577-c3e84bbb9468"
      },
      "execution_count": 55,
      "outputs": [
        {
          "output_type": "stream",
          "name": "stdout",
          "text": [
            "[3, 5, 9, 1]\n"
          ]
        }
      ]
    },
    {
      "cell_type": "code",
      "source": [],
      "metadata": {
        "id": "KlFVXMst6-2B"
      },
      "execution_count": null,
      "outputs": []
    }
  ]
}